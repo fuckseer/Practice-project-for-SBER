{
 "cells": [
  {
   "cell_type": "code",
   "execution_count": 5,
   "metadata": {
    "id": "fPDTG4fEYrHo"
   },
   "outputs": [],
   "source": [
    "from pathlib import Path\n",
    "\n",
    "import boto3"
   ]
  },
  {
   "cell_type": "code",
   "execution_count": null,
   "metadata": {},
   "outputs": [],
   "source": [
    "access_key_id = \"<ACCESS_KEY_ID>\"\n",
    "secret_access_key = \"<SECRET_ACCESS_KEY>\"\n",
    "pack = \"pack4\""
   ]
  },
  {
   "cell_type": "code",
   "execution_count": 8,
   "metadata": {
    "id": "dW7sj7_iXTLk"
   },
   "outputs": [],
   "source": [
    "def download_folder(s3_resource, bucket_name, folder_name):\n",
    "    bucket = s3_resource.Bucket(bucket_name)\n",
    "    for obj in bucket.objects.filter(Prefix = folder_name):\n",
    "        directory = Path(obj.key).parent\n",
    "        if not dir.exists:\n",
    "            directory.mkdir(parents=True)\n",
    "        bucket.download_file(obj.key, obj.key)"
   ]
  },
  {
   "cell_type": "code",
   "execution_count": 12,
   "metadata": {
    "id": "0WzFHaIPbE8K"
   },
   "outputs": [],
   "source": [
    "resource = boto3.resource(\n",
    "  \"s3\",\n",
    "  endpoint_url=\"https://storage.yandexcloud.net\",\n",
    "  aws_access_key_id = access_key_id,\n",
    "  aws_secret_access_key = secret_access_key\n",
    ")"
   ]
  },
  {
   "cell_type": "code",
   "execution_count": null,
   "metadata": {
    "id": "Sd0THFR9amgc"
   },
   "outputs": [],
   "source": [
    "download_folder(resource, \"waste\", pack)"
   ]
  }
 ],
 "metadata": {
  "colab": {
   "provenance": []
  },
  "kernelspec": {
   "display_name": "Python 3",
   "name": "python3"
  },
  "language_info": {
   "name": "python"
  }
 },
 "nbformat": 4,
 "nbformat_minor": 0
}
